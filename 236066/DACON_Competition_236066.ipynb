{
 "cells": [
  {
   "cell_type": "markdown",
   "id": "97364cce-2d0c-4ddb-8df3-5c3636660de0",
   "metadata": {
    "id": "97364cce-2d0c-4ddb-8df3-5c3636660de0"
   },
   "source": [
    "# Import / 라이브러리 호출"
   ]
  },
  {
   "cell_type": "code",
   "execution_count": null,
   "id": "5RPvxchOPKvC",
   "metadata": {
    "executionInfo": {
     "elapsed": 732,
     "status": "ok",
     "timestamp": 1677136184263,
     "user": {
      "displayName": "Jaemin Seok (SeokJAM)",
      "userId": "04307250283279647587"
     },
     "user_tz": -540
    },
    "id": "5RPvxchOPKvC"
   },
   "outputs": [],
   "source": [
    "import numpy as np #넘파이 임포트\n",
    "import random\n",
    "import os\n",
    "import pandas as pd #판다스 임포트"
   ]
  },
  {
   "cell_type": "code",
   "execution_count": null,
   "id": "kMJ5QyN9-zsf",
   "metadata": {
    "colab": {
     "base_uri": "https://localhost:8080/"
    },
    "executionInfo": {
     "elapsed": 6354,
     "status": "ok",
     "timestamp": 1677136191463,
     "user": {
      "displayName": "Jaemin Seok (SeokJAM)",
      "userId": "04307250283279647587"
     },
     "user_tz": -540
    },
    "id": "kMJ5QyN9-zsf",
    "outputId": "ceb68019-d2fc-4cac-c275-67b428d7b15a",
    "scrolled": true
   },
   "outputs": [],
   "source": [
    "pip install flaml"
   ]
  },
  {
   "cell_type": "code",
   "execution_count": null,
   "id": "5b0867f6",
   "metadata": {
    "colab": {
     "base_uri": "https://localhost:8080/"
    },
    "executionInfo": {
     "elapsed": 18486,
     "status": "ok",
     "timestamp": 1677136223731,
     "user": {
      "displayName": "Jaemin Seok (SeokJAM)",
      "userId": "04307250283279647587"
     },
     "user_tz": -540
    },
    "id": "5b0867f6",
    "outputId": "db00ddbd-5cc1-4efc-fb34-a29c79ec70fe"
   },
   "outputs": [],
   "source": [
    "# warning 메시지 무시\n",
    "import warnings\n",
    "warnings.filterwarnings(\"ignore\")\n"
   ]
  },
  {
   "cell_type": "code",
   "execution_count": null,
   "id": "413ac8ef",
   "metadata": {},
   "outputs": [],
   "source": [
    "# 구글 드라이브 사용 시 \n",
    "from google.colab import drive\n",
    "drive.mount('/content/drive')"
   ]
  },
  {
   "cell_type": "markdown",
   "id": "ce1a4091-76e8-498b-8b8f-fa39f69e5a6f",
   "metadata": {
    "id": "ce1a4091-76e8-498b-8b8f-fa39f69e5a6f"
   },
   "source": [
    "# Fixed RandomSeed / 랜덤시드 고정\n",
    "\n",
    "#### 매번 고정된 결과를 얻기 위해서 사용합니다.\n",
    "#### seed를 고정하지 않는다면 같은 코드라도 매번 다른 결과가 나오게됩니다.\n",
    "#### 항상 동일한 결과를 얻기 위해서 사용합니다."
   ]
  },
  {
   "cell_type": "code",
   "execution_count": null,
   "id": "0229b44b-9119-4980-a3ec-785094c36da3",
   "metadata": {
    "executionInfo": {
     "elapsed": 263,
     "status": "ok",
     "timestamp": 1677136233215,
     "user": {
      "displayName": "Jaemin Seok (SeokJAM)",
      "userId": "04307250283279647587"
     },
     "user_tz": -540
    },
    "id": "0229b44b-9119-4980-a3ec-785094c36da3"
   },
   "outputs": [],
   "source": [
    "def seed_everything(seed):\n",
    "    random.seed(seed)\n",
    "    os.environ['PYTHONHASHSEED'] = str(seed)\n",
    "    np.random.seed(seed)\n",
    "\n",
    "seed_everything(42) # Seed 고정"
   ]
  },
  {
   "cell_type": "markdown",
   "id": "de0a6dff-01f8-4273-8742-1ed5e3e16d13",
   "metadata": {
    "id": "de0a6dff-01f8-4273-8742-1ed5e3e16d13"
   },
   "source": [
    "# Data Load / 데이터 불러오기\n",
    "#### 먼저 pandas 라이브러리의 read_csv() 함수를 이용해 분석에 사용할 데이터를 불러옵니다."
   ]
  },
  {
   "cell_type": "code",
   "execution_count": null,
   "id": "HP8rtxxm7epH",
   "metadata": {
    "executionInfo": {
     "elapsed": 1,
     "status": "ok",
     "timestamp": 1677136234691,
     "user": {
      "displayName": "Jaemin Seok (SeokJAM)",
      "userId": "04307250283279647587"
     },
     "user_tz": -540
    },
    "id": "HP8rtxxm7epH"
   },
   "outputs": [],
   "source": [
    "# 구글 드라이브 사용 시\n",
    "if os.getcwd() == '/content':\n",
    "    work_space = '/content/drive/MyDrive/Colab Notebooks/DACON/236066/'\n",
    "else:\n",
    "    work_space = './'"
   ]
  },
  {
   "cell_type": "code",
   "execution_count": null,
   "id": "415d243b-4080-4b50-8011-d6ff0d5f0556",
   "metadata": {
    "executionInfo": {
     "elapsed": 703,
     "status": "ok",
     "timestamp": 1677136235678,
     "user": {
      "displayName": "Jaemin Seok (SeokJAM)",
      "userId": "04307250283279647587"
     },
     "user_tz": -540
    },
    "id": "415d243b-4080-4b50-8011-d6ff0d5f0556"
   },
   "outputs": [],
   "source": [
    "train = pd.read_csv(work_space + 'train.csv')\n",
    "test = pd.read_csv(work_space+ 'test.csv')"
   ]
  },
  {
   "cell_type": "code",
   "execution_count": null,
   "id": "86d4f28c-b856-41ab-b732-fdd31fb85d01",
   "metadata": {
    "colab": {
     "base_uri": "https://localhost:8080/",
     "height": 250
    },
    "executionInfo": {
     "elapsed": 5,
     "status": "ok",
     "timestamp": 1677136235942,
     "user": {
      "displayName": "Jaemin Seok (SeokJAM)",
      "userId": "04307250283279647587"
     },
     "user_tz": -540
    },
    "id": "86d4f28c-b856-41ab-b732-fdd31fb85d01",
    "outputId": "6a35a4ff-55b2-41c4-d20f-3849a1586332",
    "scrolled": true
   },
   "outputs": [],
   "source": [
    "train.head()"
   ]
  },
  {
   "cell_type": "markdown",
   "id": "df74dc43-306b-43c8-9a05-e345ba0d2d5d",
   "metadata": {
    "id": "df74dc43-306b-43c8-9a05-e345ba0d2d5d"
   },
   "source": [
    "# Feature & Target Split / 독립변수(X), 종속변수(y)로 나누기\n",
    "\n",
    "#### 모델을 학습하기 위해서는 독립변수(X)와 종속변수(y)로 나누어야 합니다.\n",
    "#### 독립변수는 Feature, 종속변수는 Target이라고 불리기도 합니다.\n",
    "- Feature : 예측을 위해 활용되는 데이터\n",
    "- Target : 예측하고자 하는 대상\n",
    "\n",
    "(이 때, 분석에 활용하지 않는 데이터인 'id'는 제거하겠습니다.)"
   ]
  },
  {
   "cell_type": "code",
   "execution_count": null,
   "id": "f72654c3-4e10-49fc-9889-1830bd0448e3",
   "metadata": {
    "executionInfo": {
     "elapsed": 2,
     "status": "ok",
     "timestamp": 1677136237257,
     "user": {
      "displayName": "Jaemin Seok (SeokJAM)",
      "userId": "04307250283279647587"
     },
     "user_tz": -540
    },
    "id": "f72654c3-4e10-49fc-9889-1830bd0448e3"
   },
   "outputs": [],
   "source": [
    "# X는 독립변수이므로 종속변수를 제거합니다. 또한 target 이외의 분석에 활용하지 않는 데이터(id)를 제거합니다.\n",
    "train_x = train.drop(columns=['id', 'target', 'snowing'])\n",
    "# y는 종속변수로 값을 설정합니다.\n",
    "train_y = train['target']"
   ]
  },
  {
   "cell_type": "code",
   "execution_count": null,
   "id": "0ea0b196-ce87-409b-abbf-8fdd186d152a",
   "metadata": {
    "executionInfo": {
     "elapsed": 3,
     "status": "ok",
     "timestamp": 1677136238986,
     "user": {
      "displayName": "Jaemin Seok (SeokJAM)",
      "userId": "04307250283279647587"
     },
     "user_tz": -540
    },
    "id": "0ea0b196-ce87-409b-abbf-8fdd186d152a"
   },
   "outputs": [],
   "source": [
    "# train에서와 마찬가지로 분석에 활용하지 않는 데이터(id)를 제거합니다.\n",
    "test_x = test.drop(columns=['id', 'snowing'])"
   ]
  },
  {
   "cell_type": "markdown",
   "id": "8afa4609-9602-4211-8ba4-e97170ddd82d",
   "metadata": {
    "id": "8afa4609-9602-4211-8ba4-e97170ddd82d"
   },
   "source": [
    "# Data Pre-processing\n",
    "\n",
    "#### 데이터 정규화 : Min-Max Scaler"
   ]
  },
  {
   "cell_type": "code",
   "execution_count": null,
   "id": "6cb92df3",
   "metadata": {
    "executionInfo": {
     "elapsed": 738,
     "status": "ok",
     "timestamp": 1677136241430,
     "user": {
      "displayName": "Jaemin Seok (SeokJAM)",
      "userId": "04307250283279647587"
     },
     "user_tz": -540
    },
    "id": "6cb92df3"
   },
   "outputs": [],
   "source": [
    "from sklearn.preprocessing import MinMaxScaler\n",
    "\n",
    "scaler = MinMaxScaler()\n",
    "scaler.fit(train_x)\n",
    "train_x = scaler.transform(train_x)\n",
    "test_x = scaler.transform(test_x)"
   ]
  },
  {
   "cell_type": "markdown",
   "id": "983ca091-e0b9-45a3-b82b-33fb58ef7b27",
   "metadata": {
    "id": "983ca091-e0b9-45a3-b82b-33fb58ef7b27"
   },
   "source": [
    "# 모델 정의\n",
    "\n",
    "#### 분석에 사용할 모델을 선언합니다."
   ]
  },
  {
   "cell_type": "code",
   "execution_count": null,
   "id": "Aep3L4_GzVfg",
   "metadata": {
    "colab": {
     "base_uri": "https://localhost:8080/",
     "height": 1000
    },
    "executionInfo": {
     "elapsed": 263665,
     "status": "error",
     "timestamp": 1677142647690,
     "user": {
      "displayName": "Jaemin Seok (SeokJAM)",
      "userId": "04307250283279647587"
     },
     "user_tz": -540
    },
    "id": "Aep3L4_GzVfg",
    "outputId": "95146774-2870-496f-87d5-7ccb9e374433"
   },
   "outputs": [],
   "source": [
    "from flaml import AutoML\n",
    "\n",
    "automl = AutoML()\n",
    "settings = {\n",
    "    \"time_budget\": 18000,  # total running time in seconds\n",
    "    \"metric\": 'mae',  # primary metrics for regression can be chosen from: ['mae','mse','r2']\n",
    "    \"estimator_list\": ['xgboost'],  # list of ML learners; we tune XGBoost in this example\n",
    "    \"task\": 'regression',  # task type\n",
    "    \"seed\": 42,  # random seed\n",
    "    \"early_stop\": 100,\n",
    "}\n",
    "automl.fit(X_train=train_x, y_train=train_y, **settings)"
   ]
  },
  {
   "cell_type": "code",
   "execution_count": null,
   "id": "1HIXeAuewcAc",
   "metadata": {
    "id": "1HIXeAuewcAc"
   },
   "outputs": [],
   "source": [
    "print('Best hyperparmeter config:', automl.best_config)\n",
    "print('Best MAE on validation data: {0:.4g}'.format(automl.best_loss))\n",
    "print('Training duration of best run: {0:.4g} s'.format(automl.best_config_train_time))\n",
    "print(automl.model.estimator)"
   ]
  },
  {
   "cell_type": "code",
   "execution_count": null,
   "id": "v_VcTTra2J6k",
   "metadata": {
    "colab": {
     "base_uri": "https://localhost:8080/",
     "height": 283
    },
    "executionInfo": {
     "elapsed": 25235,
     "status": "ok",
     "timestamp": 1677126794364,
     "user": {
      "displayName": "Jaemin Seok (SeokJAM)",
      "userId": "04307250283279647587"
     },
     "user_tz": -540
    },
    "id": "v_VcTTra2J6k",
    "outputId": "2f15a9a1-c454-48f1-ab5b-3ff2c3a6b5a6"
   },
   "outputs": [],
   "source": [
    "import matplotlib.pyplot as plt\n",
    "\n",
    "plt.barh(automl.\n",
    "         feature_names_in_, automl.feature_importances_)"
   ]
  },
  {
   "cell_type": "markdown",
   "id": "7M2eAy51j6kW",
   "metadata": {
    "id": "7M2eAy51j6kW"
   },
   "source": [
    "# Prediction / 예측"
   ]
  },
  {
   "cell_type": "code",
   "execution_count": null,
   "id": "jy28FEZG2Ndv",
   "metadata": {
    "colab": {
     "base_uri": "https://localhost:8080/"
    },
    "executionInfo": {
     "elapsed": 27669,
     "status": "ok",
     "timestamp": 1677126828050,
     "user": {
      "displayName": "Jaemin Seok (SeokJAM)",
      "userId": "04307250283279647587"
     },
     "user_tz": -540
    },
    "id": "jy28FEZG2Ndv",
    "outputId": "edb75a38-d41f-4378-d087-4d79dd83d5c0"
   },
   "outputs": [],
   "source": [
    "pred_automl = automl.predict(test_x)\n",
    "print('Predicted labels', pred_automl)"
   ]
  },
  {
   "cell_type": "markdown",
   "id": "919108e4-4447-4776-b91b-02809faa6d30",
   "metadata": {
    "id": "919108e4-4447-4776-b91b-02809faa6d30"
   },
   "source": [
    "# Submit / 제출"
   ]
  },
  {
   "cell_type": "code",
   "execution_count": null,
   "id": "a700bd33-7e01-44d1-8e6e-ae2167eae26c",
   "metadata": {
    "executionInfo": {
     "elapsed": 653,
     "status": "ok",
     "timestamp": 1677126836542,
     "user": {
      "displayName": "Jaemin Seok (SeokJAM)",
      "userId": "04307250283279647587"
     },
     "user_tz": -540
    },
    "id": "a700bd33-7e01-44d1-8e6e-ae2167eae26c"
   },
   "outputs": [],
   "source": [
    "# 제출 파일을 불러옵니다.\n",
    "submit = pd.read_csv(work_space + 'sample_submission.csv')"
   ]
  },
  {
   "cell_type": "code",
   "execution_count": null,
   "id": "c42c7c75-6516-4a48-a4c0-462dc763a35a",
   "metadata": {
    "colab": {
     "base_uri": "https://localhost:8080/",
     "height": 206
    },
    "executionInfo": {
     "elapsed": 5,
     "status": "ok",
     "timestamp": 1677126836943,
     "user": {
      "displayName": "Jaemin Seok (SeokJAM)",
      "userId": "04307250283279647587"
     },
     "user_tz": -540
    },
    "id": "c42c7c75-6516-4a48-a4c0-462dc763a35a",
    "outputId": "5bfcfb6c-3a2b-4461-af2e-e11d550de0c7"
   },
   "outputs": [],
   "source": [
    "submit['target'] = pred_automl\n",
    "submit.head()"
   ]
  },
  {
   "cell_type": "code",
   "execution_count": null,
   "id": "775f70b8-5dc5-4158-9565-4452607df5a7",
   "metadata": {
    "executionInfo": {
     "elapsed": 247,
     "status": "ok",
     "timestamp": 1677126840986,
     "user": {
      "displayName": "Jaemin Seok (SeokJAM)",
      "userId": "04307250283279647587"
     },
     "user_tz": -540
    },
    "id": "775f70b8-5dc5-4158-9565-4452607df5a7"
   },
   "outputs": [],
   "source": [
    "submit.to_csv(work_space + 'submit_automl.csv', index=False)"
   ]
  }
 ],
 "metadata": {
  "colab": {
   "provenance": []
  },
  "gpuClass": "standard",
  "kernelspec": {
   "display_name": "Python 3 (ipykernel)",
   "language": "python",
   "name": "python3"
  },
  "language_info": {
   "codemirror_mode": {
    "name": "ipython",
    "version": 3
   },
   "file_extension": ".py",
   "mimetype": "text/x-python",
   "name": "python",
   "nbconvert_exporter": "python",
   "pygments_lexer": "ipython3",
   "version": "3.9.13"
  }
 },
 "nbformat": 4,
 "nbformat_minor": 5
}
